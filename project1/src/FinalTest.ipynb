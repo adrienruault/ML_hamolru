{
 "cells": [
  {
   "cell_type": "code",
   "execution_count": 74,
   "metadata": {
    "collapsed": false,
    "deletable": true,
    "editable": true
   },
   "outputs": [
    {
     "name": "stdout",
     "output_type": "stream",
     "text": [
      "The autoreload extension is already loaded. To reload it, use:\n",
      "  %reload_ext autoreload\n"
     ]
    }
   ],
   "source": [
    "# Useful starting lines\n",
    "%matplotlib inline\n",
    "import numpy as np\n",
    "import algorithms as algo\n",
    "import preprocessing_functions as prep\n",
    "%load_ext autoreload\n",
    "%autoreload 2"
   ]
  },
  {
   "cell_type": "code",
   "execution_count": 129,
   "metadata": {
    "collapsed": false,
    "deletable": true,
    "editable": true
   },
   "outputs": [],
   "source": [
    "def filter_data(x):\n",
    "    for i in range(0,len(x)):\n",
    "        if(abs(x[i])==999):\n",
    "            x[i]=0\n",
    "    return x\n",
    "#a = prep.get_clean_data(x,y)\n"
   ]
  },
  {
   "cell_type": "code",
   "execution_count": 124,
   "metadata": {
    "collapsed": false,
    "deletable": true,
    "editable": true
   },
   "outputs": [],
   "source": [
    "# load dataset\n",
    "from proj1_helpers import *\n",
    "y, x, z = load_csv_data(\"train.csv\", sub_sample=False)\n",
    "y_,x_,z_ = load_csv_data(\"test.csv\", sub_sample=False)"
   ]
  },
  {
   "cell_type": "code",
   "execution_count": 125,
   "metadata": {
    "collapsed": false,
    "deletable": true,
    "editable": true
   },
   "outputs": [],
   "source": [
    "x = np.array(list(map(filter_data, x)))\n",
    "y = np.array(y)\n",
    "x_ = np.array(list(map(filter_data, x_)))\n",
    "y_ = np.array(y_)"
   ]
  },
  {
   "cell_type": "code",
   "execution_count": 126,
   "metadata": {
    "collapsed": true,
    "deletable": true,
    "editable": true
   },
   "outputs": [],
   "source": [
    "def cross_validation(y, x, k_indices, k, lambda_, degree):\n",
    "    \"\"\"return the loss of ridge regression.\"\"\"\n",
    "    train = ([a for i,a in enumerate(x) if i not in k_indices[k-1]], [a for i,a in enumerate(y) if i not in k_indices[k-1]])\n",
    "    polyTrain = algo.build_poly(np.array(train[0]), np.full(30,degree))    \n",
    "    weightsTrain = algo.ridge_regression(np.array(train[1]),polyTrain,lambda_)[0]\n",
    "    \n",
    "    return weightsTrain"
   ]
  },
  {
   "cell_type": "code",
   "execution_count": 127,
   "metadata": {
    "collapsed": true,
    "deletable": true,
    "editable": true
   },
   "outputs": [],
   "source": [
    "def cross_validation_demo(degree, k_fold, lambda_, seed):\n",
    "    \n",
    "    # split data in k fold\n",
    "    k_indices = algo.build_k_indices(y, k_fold, seed)\n",
    "    \n",
    "    w = cross_validation(y, x, k_indices, 1, lambda_, degree)\n",
    "    weights = w*(1/k_fold)\n",
    "    for k in range(2, k_fold+1):\n",
    "        w = cross_validation(y, x, k_indices, k, lambda_, degree)\n",
    "        weights = w*(1/k_fold) + weights\n",
    "        \n",
    "    polyTest = algo.build_poly(x_, np.full(30,degree))\n",
    "    y_= predict_labels(weights,polyTest)\n",
    "    print(lambda_)\n",
    "    print(np.count_nonzero(y_==1))\n",
    "    print(np.count_nonzero(y_==-1))\n",
    "    create_csv_submission(z_, y_, \"submission3.csv\")"
   ]
  },
  {
   "cell_type": "code",
   "execution_count": 128,
   "metadata": {
    "collapsed": false,
    "deletable": true,
    "editable": true
   },
   "outputs": [
    {
     "name": "stderr",
     "output_type": "stream",
     "text": [
      "/Users/Skan/Library/Enthought/Canopy/edm/envs/User/lib/python3.5/site-packages/numpy/core/numeric.py:301: FutureWarning: in the future, full(30, 8) will return an array of dtype('int64')\n",
      "  format(shape, fill_value, array(fill_value).dtype), FutureWarning)\n"
     ]
    },
    {
     "name": "stdout",
     "output_type": "stream",
     "text": [
      "0.00610540229659\n",
      "174712\n",
      "393526\n"
     ]
    }
   ],
   "source": [
    "cross_validation_demo(9, 4, 0.00610540229659, 1)"
   ]
  },
  {
   "cell_type": "code",
   "execution_count": null,
   "metadata": {
    "collapsed": false,
    "deletable": true,
    "editable": true
   },
   "outputs": [],
   "source": []
  },
  {
   "cell_type": "code",
   "execution_count": null,
   "metadata": {
    "collapsed": true
   },
   "outputs": [],
   "source": []
  }
 ],
 "metadata": {
  "kernelspec": {
   "display_name": "Python 3",
   "language": "python",
   "name": "python3"
  },
  "language_info": {
   "codemirror_mode": {
    "name": "ipython",
    "version": 3
   },
   "file_extension": ".py",
   "mimetype": "text/x-python",
   "name": "python",
   "nbconvert_exporter": "python",
   "pygments_lexer": "ipython3",
   "version": "3.5.2"
  }
 },
 "nbformat": 4,
 "nbformat_minor": 0
}
