{
 "cells": [
  {
   "cell_type": "code",
   "execution_count": 14,
   "metadata": {},
   "outputs": [
    {
     "name": "stdout",
     "output_type": "stream",
     "text": [
      "The autoreload extension is already loaded. To reload it, use:\n",
      "  %reload_ext autoreload\n"
     ]
    }
   ],
   "source": [
    "%matplotlib inline\n",
    "import proj1_helpers as utils\n",
    "import numpy as np\n",
    "import matplotlib.pyplot as plt\n",
    "%load_ext autoreload\n",
    "%autoreload\n",
    "import algorithms as ML_alg\n",
    "import preprocessing_functions as prf\n",
    "\n",
    "(y, tx, event_ids) = utils.load_csv_data(\"../train.csv\")"
   ]
  },
  {
   "cell_type": "code",
   "execution_count": 88,
   "metadata": {},
   "outputs": [],
   "source": [
    "(tx_clean, y_clean) = prf.get_clean_data(tx,y)\n",
    "\n",
    "y_clean_bin = prf.pass_data_to_zero_one(y_clean).reshape([y_clean.shape[0],1])\n",
    "\n",
    "\n",
    "std_tx_clean = prf.standardize(tx_clean)"
   ]
  },
  {
   "cell_type": "code",
   "execution_count": 95,
   "metadata": {},
   "outputs": [
    {
     "data": {
      "text/plain": [
       "(68114, 30)"
      ]
     },
     "execution_count": 95,
     "metadata": {},
     "output_type": "execute_result"
    }
   ],
   "source": [
    "std_tx_clean.shape\n"
   ]
  },
  {
   "cell_type": "code",
   "execution_count": 111,
   "metadata": {},
   "outputs": [
    {
     "data": {
      "text/plain": [
       "(68114, 91)"
      ]
     },
     "execution_count": 111,
     "metadata": {},
     "output_type": "execute_result"
    }
   ],
   "source": [
    "from matplotlib.mlab import PCA\n",
    "pca = PCA(tx_clean)\n",
    "pca.Y.shape\n",
    "\n",
    "final_tx = ML_alg.build_poly(x = pca.Y, degree=3)\n",
    "final_tx.shape"
   ]
  },
  {
   "cell_type": "code",
   "execution_count": null,
   "metadata": {},
   "outputs": [],
   "source": [
    "initial_w = np.zeros([91,1])\n",
    "\n",
    "\n",
    "\n",
    "\n",
    "(w, loss ) = ML_alg.gradient_descent(tx = final_tx, y = y_clean_bin, initial_w = initial_w,cost = 'reg_logistic',\n",
    "                        lambda_= 0.5, gamma = 0.00000001, update_gamma= False, max_iters = 10000)"
   ]
  },
  {
   "cell_type": "code",
   "execution_count": 116,
   "metadata": {},
   "outputs": [],
   "source": [
    "def evaluate(tx,y,w):\n",
    "    true = 0\n",
    "    false = 0\n",
    "    for i in range(y.shape[0]):\n",
    "        res = tx[i].dot(w.reshape([91,1]))\n",
    "        if(abs(1-res) < abs(res)):\n",
    "            if (y[i] == 1):\n",
    "                true += 1\n",
    "            else:\n",
    "                false += 1\n",
    "        if(abs(1-res) > abs(res)):\n",
    "            if (y[i] == 0):\n",
    "                true += 1\n",
    "            else:\n",
    "                false += 1\n",
    "    return (true,false)"
   ]
  },
  {
   "cell_type": "code",
   "execution_count": 134,
   "metadata": {},
   "outputs": [
    {
     "name": "stdout",
     "output_type": "stream",
     "text": [
      "41125 26989\n"
     ]
    }
   ],
   "source": [
    "(true, false) = evaluate(final_tx, y_clean_bin, w)\n",
    "\n",
    "print(true,false)"
   ]
  }
 ],
 "metadata": {
  "kernelspec": {
   "display_name": "Python 3",
   "language": "python",
   "name": "python3"
  },
  "language_info": {
   "codemirror_mode": {
    "name": "ipython",
    "version": 3
   },
   "file_extension": ".py",
   "mimetype": "text/x-python",
   "name": "python",
   "nbconvert_exporter": "python",
   "pygments_lexer": "ipython3",
   "version": "3.6.1"
  }
 },
 "nbformat": 4,
 "nbformat_minor": 2
}
