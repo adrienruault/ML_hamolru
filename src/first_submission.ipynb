{
 "cells": [
  {
   "cell_type": "code",
   "execution_count": 100,
   "metadata": {},
   "outputs": [
    {
     "name": "stdout",
     "output_type": "stream",
     "text": [
      "The autoreload extension is already loaded. To reload it, use:\n",
      "  %reload_ext autoreload\n",
      "[[  1.38470000e+02   5.16550000e+01   9.78270000e+01   2.79800000e+01\n",
      "    9.10000000e-01   1.24711000e+02   2.66600000e+00   3.06400000e+00\n",
      "    4.19280000e+01   1.97760000e+02   1.58200000e+00   1.39600000e+00\n",
      "    2.00000000e-01   3.26380000e+01   1.01700000e+00   3.81000000e-01\n",
      "    5.16260000e+01   2.27300000e+00  -2.41400000e+00   1.68240000e+01\n",
      "   -2.77000000e-01   2.58733000e+02   2.00000000e+00   6.74350000e+01\n",
      "    2.15000000e+00   4.44000000e-01   4.60620000e+01   1.24000000e+00\n",
      "   -2.47500000e+00   1.13497000e+02]\n",
      " [  1.60937000e+02   6.87680000e+01   1.03235000e+02   4.81460000e+01\n",
      "   -9.99000000e+02  -9.99000000e+02  -9.99000000e+02   3.47300000e+00\n",
      "    2.07800000e+00   1.25157000e+02   8.79000000e-01   1.41400000e+00\n",
      "   -9.99000000e+02   4.20140000e+01   2.03900000e+00  -3.01100000e+00\n",
      "    3.69180000e+01   5.01000000e-01   1.03000000e-01   4.47040000e+01\n",
      "   -1.91600000e+00   1.64546000e+02   1.00000000e+00   4.62260000e+01\n",
      "    7.25000000e-01   1.15800000e+00  -9.99000000e+02  -9.99000000e+02\n",
      "   -9.99000000e+02   4.62260000e+01]\n",
      " [ -9.99000000e+02   1.62172000e+02   1.25953000e+02   3.56350000e+01\n",
      "   -9.99000000e+02  -9.99000000e+02  -9.99000000e+02   3.14800000e+00\n",
      "    9.33600000e+00   1.97814000e+02   3.77600000e+00   1.41400000e+00\n",
      "   -9.99000000e+02   3.21540000e+01  -7.05000000e-01  -2.09300000e+00\n",
      "    1.21409000e+02  -9.53000000e-01   1.05200000e+00   5.42830000e+01\n",
      "   -2.18600000e+00   2.60414000e+02   1.00000000e+00   4.42510000e+01\n",
      "    2.05300000e+00  -2.02800000e+00  -9.99000000e+02  -9.99000000e+02\n",
      "   -9.99000000e+02   4.42510000e+01]\n",
      " [  1.43905000e+02   8.14170000e+01   8.09430000e+01   4.14000000e-01\n",
      "   -9.99000000e+02  -9.99000000e+02  -9.99000000e+02   3.31000000e+00\n",
      "    4.14000000e-01   7.59680000e+01   2.35400000e+00  -1.28500000e+00\n",
      "   -9.99000000e+02   2.26470000e+01  -1.65500000e+00   1.00000000e-02\n",
      "    5.33210000e+01  -5.22000000e-01  -3.10000000e+00   3.10820000e+01\n",
      "    6.00000000e-02   8.60620000e+01   0.00000000e+00  -9.99000000e+02\n",
      "   -9.99000000e+02  -9.99000000e+02  -9.99000000e+02  -9.99000000e+02\n",
      "   -9.99000000e+02   0.00000000e+00]\n",
      " [  1.75864000e+02   1.69150000e+01   1.34805000e+02   1.64050000e+01\n",
      "   -9.99000000e+02  -9.99000000e+02  -9.99000000e+02   3.89100000e+00\n",
      "    1.64050000e+01   5.79830000e+01   1.05600000e+00  -1.38500000e+00\n",
      "   -9.99000000e+02   2.82090000e+01  -2.19700000e+00  -2.23100000e+00\n",
      "    2.97740000e+01   7.98000000e-01   1.56900000e+00   2.72300000e+00\n",
      "   -8.71000000e-01   5.31310000e+01   0.00000000e+00  -9.99000000e+02\n",
      "   -9.99000000e+02  -9.99000000e+02  -9.99000000e+02  -9.99000000e+02\n",
      "   -9.99000000e+02   0.00000000e+00]\n",
      " [  8.97440000e+01   1.35500000e+01   5.91490000e+01   1.16344000e+02\n",
      "    2.63600000e+00   2.84584000e+02  -5.40000000e-01   1.36200000e+00\n",
      "    6.16190000e+01   2.78876000e+02   5.88000000e-01   4.79000000e-01\n",
      "    9.75000000e-01   5.36510000e+01   3.71000000e-01   1.32900000e+00\n",
      "    3.15650000e+01  -8.84000000e-01   1.85700000e+00   4.07350000e+01\n",
      "    2.23700000e+00   2.82849000e+02   3.00000000e+00   9.05470000e+01\n",
      "   -2.41200000e+00  -6.53000000e-01   5.61650000e+01   2.24000000e-01\n",
      "    3.10600000e+00   1.93660000e+02]\n",
      " [  1.48754000e+02   2.88620000e+01   1.07782000e+02   1.06130000e+02\n",
      "    7.33000000e-01   1.58359000e+02   1.13000000e-01   2.94100000e+00\n",
      "    2.54500000e+00   3.05967000e+02   3.37100000e+00   1.39300000e+00\n",
      "    7.91000000e-01   2.88500000e+01   1.11300000e+00   2.40900000e+00\n",
      "    9.72400000e+01   6.75000000e-01  -9.66000000e-01   3.84210000e+01\n",
      "   -1.44300000e+00   2.94074000e+02   2.00000000e+00   1.23010000e+02\n",
      "    8.64000000e-01   1.45000000e+00   5.68670000e+01   1.31000000e-01\n",
      "   -2.76700000e+00   1.79877000e+02]\n",
      " [  1.54916000e+02   1.04180000e+01   9.47140000e+01   2.91690000e+01\n",
      "   -9.99000000e+02  -9.99000000e+02  -9.99000000e+02   2.89700000e+00\n",
      "    1.52600000e+00   1.38178000e+02   3.65000000e-01  -1.30500000e+00\n",
      "   -9.99000000e+02   7.88000000e+01   6.54000000e-01   1.54700000e+00\n",
      "    2.87400000e+01   5.06000000e-01  -1.34700000e+00   2.22750000e+01\n",
      "   -1.76100000e+00   1.87299000e+02   1.00000000e+00   3.06380000e+01\n",
      "   -7.15000000e-01  -1.72400000e+00  -9.99000000e+02  -9.99000000e+02\n",
      "   -9.99000000e+02   3.06380000e+01]\n",
      " [  1.05594000e+02   5.05590000e+01   1.00989000e+02   4.28800000e+00\n",
      "   -9.99000000e+02  -9.99000000e+02  -9.99000000e+02   2.90400000e+00\n",
      "    4.28800000e+00   6.53330000e+01   6.75000000e-01  -1.36600000e+00\n",
      "   -9.99000000e+02   3.90080000e+01   2.43300000e+00  -2.53200000e+00\n",
      "    2.63250000e+01   2.10000000e-01   1.88400000e+00   3.77910000e+01\n",
      "    2.40000000e-02   1.29804000e+02   0.00000000e+00  -9.99000000e+02\n",
      "   -9.99000000e+02  -9.99000000e+02  -9.99000000e+02  -9.99000000e+02\n",
      "   -9.99000000e+02   0.00000000e+00]\n",
      " [  1.28053000e+02   8.89410000e+01   6.92720000e+01   1.93392000e+02\n",
      "   -9.99000000e+02  -9.99000000e+02  -9.99000000e+02   1.60900000e+00\n",
      "    2.88590000e+01   2.55123000e+02   5.99000000e-01   5.38000000e-01\n",
      "   -9.99000000e+02   5.46460000e+01  -1.53300000e+00   4.16000000e-01\n",
      "    3.27420000e+01  -3.17000000e-01  -6.36000000e-01   1.32678000e+02\n",
      "    8.45000000e-01   2.94741000e+02   1.00000000e+00   1.67735000e+02\n",
      "   -2.76700000e+00  -2.51400000e+00  -9.99000000e+02  -9.99000000e+02\n",
      "   -9.99000000e+02   1.67735000e+02]]\n"
     ]
    }
   ],
   "source": [
    "%matplotlib inline\n",
    "import proj1_helpers as utils\n",
    "import numpy as np\n",
    "import matplotlib.pyplot as plt\n",
    "%load_ext autoreload\n",
    "%autoreload\n",
    "import algorithms as ML_alg\n",
    "import preprocessing_functions as prf\n",
    "\n",
    "(y, tx, event_ids) = utils.load_csv_data(\"../train.csv\")"
   ]
  },
  {
   "cell_type": "code",
   "execution_count": 2,
   "metadata": {
    "collapsed": true
   },
   "outputs": [],
   "source": [
    "(tx_clean, y_clean) = prf.get_clean_data(tx,y)\n",
    "\n",
    "y_clean_bin = prf.pass_data_to_zero_one(y_clean).reshape([y_clean.shape[0],1])\n",
    "\n",
    "\n",
    "std_tx_clean = prf.standardize(tx_clean)"
   ]
  },
  {
   "cell_type": "code",
   "execution_count": 3,
   "metadata": {},
   "outputs": [
    {
     "data": {
      "text/plain": [
       "(68114, 30)"
      ]
     },
     "execution_count": 3,
     "metadata": {},
     "output_type": "execute_result"
    }
   ],
   "source": [
    "std_tx_clean.shape"
   ]
  },
  {
   "cell_type": "code",
   "execution_count": 81,
   "metadata": {},
   "outputs": [
    {
     "data": {
      "text/plain": [
       "(68114, 91)"
      ]
     },
     "execution_count": 81,
     "metadata": {},
     "output_type": "execute_result"
    }
   ],
   "source": [
    "from matplotlib.mlab import PCA\n",
    "pca = PCA(tx_clean)\n",
    "pca.Y.shape\n",
    "\n",
    "final_tx = ML_alg.build_poly(x = prf.standardize(pca.Y), degree=3)\n",
    "final_tx.shape"
   ]
  },
  {
   "cell_type": "code",
   "execution_count": 85,
   "metadata": {},
   "outputs": [
    {
     "name": "stdout",
     "output_type": "stream",
     "text": [
      "GD(9999/9999), cost: reg_logistic: loss=28737.58977975752, w=[  1.37375109e-01   8.12128868e-01  -3.28112984e-01   4.40095704e-01\n",
      "   5.25430904e-01   1.35933540e-01   5.85846517e-02  -1.60970280e-01\n",
      "   3.18031373e-01  -2.65883395e-01   9.69222967e-02  -2.51916435e-01\n",
      "   4.21492741e-01   2.65787958e-01   4.82564361e-01   3.22825860e-03\n",
      "   2.90568839e-03   2.72148987e-01  -1.85460198e-02  -3.90471604e-03\n",
      "   4.99917983e-01   3.19492409e-02  -2.08088166e-01  -1.02582023e-01\n",
      "  -6.80377610e-02  -1.90902363e-02  -1.40971825e-02   1.51347922e-01\n",
      "   1.18773165e-02  -1.20619845e-02  -8.80533858e-02  -1.07789799e+00\n",
      "  -1.34360735e-01  -5.94660674e-01   1.87484490e-01   2.69871893e-01\n",
      "   1.70315657e-01   6.67994611e-02  -6.92973886e-01   1.25073551e-01\n",
      "  -5.67381179e-02  -4.46503605e-02   1.64087609e-01   1.22924080e-01\n",
      "  -4.05953158e-02  -1.18569597e-01   3.84484225e-02   2.74157669e-02\n",
      "  -1.37844429e-01   4.50793953e-02   3.20390019e-02   1.85771416e-02\n",
      "   7.23181081e-02   4.98019383e-02  -5.90959251e-02   1.82327495e-01\n",
      "   7.05303509e-02  -2.48223083e-02   2.02365789e-01   3.15848573e-02\n",
      "  -6.17156222e-02   7.50217427e-02   1.30505538e-02   3.50481135e-02\n",
      "  -3.73483796e-02  -1.95379166e-01  -1.82696258e-02  -1.76547887e-02\n",
      "   2.60169070e-01  -1.17868784e-02   1.70534911e-02   2.59963992e-03\n",
      "   4.88566870e-03   8.12362549e-02   1.29401771e-03  -6.63341659e-03\n",
      "   3.52127657e-04  -1.00940827e-03  -2.41700850e-03   8.73299831e-03\n",
      "  -1.59736388e-03  -1.22873395e-02  -1.35057217e-02  -6.00666426e-02\n",
      "   6.68341837e-03   1.80928151e-02   1.41445680e-02  -3.15267001e-04\n",
      "   1.32152811e-03   3.21707657e-03   3.83625841e-03]\n"
     ]
    }
   ],
   "source": [
    "initial_w = np.zeros([91,1])\n",
    "\n",
    "final_tx = ML_alg.build_poly(x = std_tx_clean, degree=3)\n",
    "\n",
    "\n",
    "(w, loss ) = ML_alg.gradient_descent(tx = final_tx, y = y_clean_bin, initial_w = initial_w,cost = 'reg_logistic',\n",
    "                        lambda_= 0.5, gamma = 1e-7, update_gamma= False, max_iters = 10000)"
   ]
  },
  {
   "cell_type": "code",
   "execution_count": 86,
   "metadata": {
    "collapsed": true
   },
   "outputs": [],
   "source": [
    "def evaluate(tx,y,w):\n",
    "    true = 0\n",
    "    false = 0\n",
    "    for i in range(y.shape[0]):\n",
    "        res = tx[i].dot(w.reshape([91,1]))\n",
    "        if(abs(1-res) < abs(res)):\n",
    "            if (y[i] == 1):\n",
    "                true += 1\n",
    "            else:\n",
    "                false += 1\n",
    "        if(abs(1-res) > abs(res)):\n",
    "            if (y[i] == 0):\n",
    "                true += 1\n",
    "            else:\n",
    "                false += 1\n",
    "    return (true,false)"
   ]
  },
  {
   "cell_type": "code",
   "execution_count": 87,
   "metadata": {},
   "outputs": [
    {
     "name": "stdout",
     "output_type": "stream",
     "text": [
      "0.8038288751211204\n"
     ]
    }
   ],
   "source": [
    "(true, false) = evaluate(final_tx, y_clean_bin, w)\n",
    "\n",
    "print(true / (true + false))"
   ]
  },
  {
   "cell_type": "code",
   "execution_count": 98,
   "metadata": {},
   "outputs": [],
   "source": [
    "def put_nan_to_0(tx):\n",
    "    tx_nan_to_zero = np.zeros(tx.shape)\n",
    "    for i in range(tx.shape[0]):\n",
    "        for j in range(tx.shape[1]):\n",
    "            if(tx[i,j] != 0):\n",
    "                tx_nan_to_zero = tx[i,j]\n",
    "    return tx_nan_to_zero\n",
    "                      \n",
    "def put_nan_to_mean(tx, y):\n",
    "    tx_nan_to_mean = tx\n",
    "    (tx_clean, y_clean) = prf.get_clean_data(tx, y)\n",
    "    means = tx_clean.mean(axis=0)\n",
    "    for i in range(tx.shape[0]):\n",
    "        for j in range(tx.shape[1]):\n",
    "            if(tx[i,j] == -999.0):\n",
    "                print(\"a\")\n",
    "                tx_nan_to_mean[i,j] = means[j]\n",
    "    return tx_nan_to_mean\n",
    "                      \n"
   ]
  },
  {
   "cell_type": "code",
   "execution_count": 112,
   "metadata": {},
   "outputs": [
    {
     "name": "stdout",
     "output_type": "stream",
     "text": [
      "[  1.22004529e+02   4.92398193e+01   8.11819816e+01   5.78959617e+01\n",
      "   2.42538280e+00   3.76321358e+02  -8.63803906e-01   2.37309984e+00\n",
      "   1.89173324e+01   1.58432217e+02   1.43760943e+00  -1.28304708e-01\n",
      "   4.62224384e-01   3.87074191e+01  -1.09730480e-02  -8.17107200e-03\n",
      "   4.66602072e+01  -1.95074680e-02   4.35429640e-02   4.17172345e+01\n",
      "  -1.01191920e-02   2.09797178e+02   9.79176000e-01   9.36375742e+01\n",
      "  -4.28021117e-03  -1.20614822e-02   5.78469592e+01  -1.26155629e-02\n",
      "  -3.85375080e-03   7.30645914e+01]\n"
     ]
    }
   ],
   "source": [
    "std_tx = ML_alg.build_poly(prf.standardize(put_nan_to_mean(tx,y)),degree=3)\n",
    "\n",
    "std_tx.mean()\n",
    "\n",
    "y_bin = prf.pass_data_to_zero_one(y)"
   ]
  },
  {
   "cell_type": "code",
   "execution_count": 114,
   "metadata": {},
   "outputs": [
    {
     "ename": "MemoryError",
     "evalue": "",
     "output_type": "error",
     "traceback": [
      "\u001b[0;31m---------------------------------------------------------------------------\u001b[0m",
      "\u001b[0;31mMemoryError\u001b[0m                               Traceback (most recent call last)",
      "\u001b[0;32m<ipython-input-114-d6cbbef0d775>\u001b[0m in \u001b[0;36m<module>\u001b[0;34m()\u001b[0m\n\u001b[1;32m      1\u001b[0m (w, loss ) = ML_alg.gradient_descent(tx = std_tx, y = y_bin, initial_w = initial_w,cost = 'reg_logistic',\n\u001b[0;32m----> 2\u001b[0;31m                         lambda_= 0.5, gamma = 1e-7, update_gamma= False, max_iters = 10000)\n\u001b[0m",
      "\u001b[0;32m/home/guillaume/workspace/CSE_semestre_3/ML_hamolru/src/algorithms.py\u001b[0m in \u001b[0;36mgradient_descent\u001b[0;34m(y, tx, initial_w, max_iters, gamma, cost, lambda_, tol, thresh_test_div, update_gamma)\u001b[0m\n\u001b[1;32m    104\u001b[0m \u001b[0;34m\u001b[0m\u001b[0m\n\u001b[1;32m    105\u001b[0m     \u001b[0;31m# Define parameters to store w and loss\u001b[0m\u001b[0;34m\u001b[0m\u001b[0;34m\u001b[0m\u001b[0m\n\u001b[0;32m--> 106\u001b[0;31m     \u001b[0mloss_k\u001b[0m \u001b[0;34m=\u001b[0m \u001b[0mcompute_loss\u001b[0m\u001b[0;34m(\u001b[0m\u001b[0my\u001b[0m\u001b[0;34m,\u001b[0m \u001b[0mtx\u001b[0m\u001b[0;34m,\u001b[0m \u001b[0minitial_w\u001b[0m\u001b[0;34m,\u001b[0m \u001b[0mcost\u001b[0m \u001b[0;34m=\u001b[0m \u001b[0mcost\u001b[0m\u001b[0;34m,\u001b[0m \u001b[0mlambda_\u001b[0m \u001b[0;34m=\u001b[0m \u001b[0mlambda_\u001b[0m\u001b[0;34m)\u001b[0m\u001b[0;34m\u001b[0m\u001b[0m\n\u001b[0m\u001b[1;32m    107\u001b[0m     \u001b[0mw_k\u001b[0m \u001b[0;34m=\u001b[0m \u001b[0minitial_w\u001b[0m\u001b[0;34m\u001b[0m\u001b[0m\n\u001b[1;32m    108\u001b[0m \u001b[0;34m\u001b[0m\u001b[0m\n",
      "\u001b[0;32m/home/guillaume/workspace/CSE_semestre_3/ML_hamolru/src/algorithms.py\u001b[0m in \u001b[0;36mcompute_loss\u001b[0;34m(y, tx, w, cost, lambda_)\u001b[0m\n\u001b[1;32m     26\u001b[0m         \u001b[0;32mreturn\u001b[0m \u001b[0mnp\u001b[0m\u001b[0;34m.\u001b[0m\u001b[0msum\u001b[0m\u001b[0;34m(\u001b[0m\u001b[0mnp\u001b[0m\u001b[0;34m.\u001b[0m\u001b[0mlog\u001b[0m\u001b[0;34m(\u001b[0m\u001b[0;36m1\u001b[0m \u001b[0;34m+\u001b[0m \u001b[0mnp\u001b[0m\u001b[0;34m.\u001b[0m\u001b[0mexp\u001b[0m\u001b[0;34m(\u001b[0m\u001b[0mtx\u001b[0m\u001b[0;34m.\u001b[0m\u001b[0mdot\u001b[0m\u001b[0;34m(\u001b[0m\u001b[0mw\u001b[0m\u001b[0;34m)\u001b[0m\u001b[0;34m)\u001b[0m\u001b[0;34m)\u001b[0m \u001b[0;34m-\u001b[0m \u001b[0my\u001b[0m \u001b[0;34m*\u001b[0m \u001b[0mtx\u001b[0m\u001b[0;34m.\u001b[0m\u001b[0mdot\u001b[0m\u001b[0;34m(\u001b[0m\u001b[0mw\u001b[0m\u001b[0;34m)\u001b[0m\u001b[0;34m)\u001b[0m\u001b[0;34m\u001b[0m\u001b[0m\n\u001b[1;32m     27\u001b[0m     \u001b[0;32melif\u001b[0m \u001b[0;34m(\u001b[0m\u001b[0mcost\u001b[0m \u001b[0;34m==\u001b[0m \u001b[0;34m\"reg_logistic\"\u001b[0m\u001b[0;34m)\u001b[0m\u001b[0;34m:\u001b[0m\u001b[0;34m\u001b[0m\u001b[0m\n\u001b[0;32m---> 28\u001b[0;31m         \u001b[0;32mreturn\u001b[0m \u001b[0mnp\u001b[0m\u001b[0;34m.\u001b[0m\u001b[0msum\u001b[0m\u001b[0;34m(\u001b[0m\u001b[0mnp\u001b[0m\u001b[0;34m.\u001b[0m\u001b[0mlog\u001b[0m\u001b[0;34m(\u001b[0m\u001b[0;36m1\u001b[0m \u001b[0;34m+\u001b[0m \u001b[0mnp\u001b[0m\u001b[0;34m.\u001b[0m\u001b[0mexp\u001b[0m\u001b[0;34m(\u001b[0m\u001b[0mtx\u001b[0m\u001b[0;34m.\u001b[0m\u001b[0mdot\u001b[0m\u001b[0;34m(\u001b[0m\u001b[0mw\u001b[0m\u001b[0;34m)\u001b[0m\u001b[0;34m)\u001b[0m\u001b[0;34m)\u001b[0m \u001b[0;34m-\u001b[0m \u001b[0mtx\u001b[0m\u001b[0;34m.\u001b[0m\u001b[0mdot\u001b[0m\u001b[0;34m(\u001b[0m\u001b[0mw\u001b[0m\u001b[0;34m)\u001b[0m \u001b[0;34m*\u001b[0m \u001b[0my\u001b[0m\u001b[0;34m)\u001b[0m \u001b[0;34m+\u001b[0m \u001b[0;34m(\u001b[0m\u001b[0mlambda_\u001b[0m \u001b[0;34m/\u001b[0m \u001b[0;36m2\u001b[0m\u001b[0;34m)\u001b[0m \u001b[0;34m*\u001b[0m \u001b[0mnp\u001b[0m\u001b[0;34m.\u001b[0m\u001b[0mlinalg\u001b[0m\u001b[0;34m.\u001b[0m\u001b[0mnorm\u001b[0m\u001b[0;34m(\u001b[0m\u001b[0mw\u001b[0m\u001b[0;34m)\u001b[0m\u001b[0;34m**\u001b[0m\u001b[0;36m2\u001b[0m\u001b[0;34m\u001b[0m\u001b[0m\n\u001b[0m\u001b[1;32m     29\u001b[0m     \u001b[0;32melse\u001b[0m\u001b[0;34m:\u001b[0m\u001b[0;34m\u001b[0m\u001b[0m\n\u001b[1;32m     30\u001b[0m         \u001b[0;32mraise\u001b[0m \u001b[0mIllegalArgument\u001b[0m\u001b[0;34m(\u001b[0m\u001b[0;34m\"Invalid cost argument in compute_loss\"\u001b[0m\u001b[0;34m)\u001b[0m\u001b[0;34m\u001b[0m\u001b[0m\n",
      "\u001b[0;31mMemoryError\u001b[0m: "
     ]
    }
   ],
   "source": [
    "(w, loss ) = ML_alg.gradient_descent(tx = std_tx, y = y_bin, initial_w = initial_w,cost = 'reg_logistic',\n",
    "                        lambda_= 0.5, gamma = 1e-7, update_gamma= False, max_iters = 10000)"
   ]
  },
  {
   "cell_type": "code",
   "execution_count": 113,
   "metadata": {},
   "outputs": [
    {
     "name": "stdout",
     "output_type": "stream",
     "text": [
      "0.76214\n"
     ]
    }
   ],
   "source": [
    "(true, false) = evaluate(std_tx, y_bin, w)\n",
    "\n",
    "print(true / (true + false))"
   ]
  }
 ],
 "metadata": {
  "kernelspec": {
   "display_name": "Python 3",
   "language": "python",
   "name": "python3"
  },
  "language_info": {
   "codemirror_mode": {
    "name": "ipython",
    "version": 3
   },
   "file_extension": ".py",
   "mimetype": "text/x-python",
   "name": "python",
   "nbconvert_exporter": "python",
   "pygments_lexer": "ipython3",
   "version": "3.6.1"
  }
 },
 "nbformat": 4,
 "nbformat_minor": 2
}
