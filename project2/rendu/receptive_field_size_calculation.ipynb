{
 "cells": [
  {
   "cell_type": "code",
   "execution_count": 1,
   "metadata": {},
   "outputs": [],
   "source": [
    "import numpy as np"
   ]
  },
  {
   "cell_type": "code",
   "execution_count": 2,
   "metadata": {},
   "outputs": [],
   "source": [
    "# Convolutional network layers caracteristics : [kernel size, stride]\n",
    "# Putting all the descending layers of the U-net, we can calculate the receptive field size \n",
    "# reached at the bottom of it.\n",
    "convnet = np.array([[3,1],[3,1],[2,2],[3,1],[3,1],[2,2],[3,1],[3,1],\n",
    "           [2,2],[3,1],[3,1],[2,2],[3,1],[3,1],[2,2],[3,1],[3,1]])"
   ]
  },
  {
   "cell_type": "code",
   "execution_count": 3,
   "metadata": {},
   "outputs": [
    {
     "data": {
      "text/plain": [
       "array([   1.,    4.,    7.,    9.,   15.,   21.,   25.,   37.,   49.,\n",
       "         57.,   81.,  105.,  121.,  169.,  217.,  249.,  345.])"
      ]
     },
     "execution_count": 3,
     "metadata": {},
     "output_type": "execute_result"
    }
   ],
   "source": [
    "j = np.zeros(convnet.shape[0])\n",
    "r = np.zeros(convnet.shape[0])\n",
    "j[0] = 1\n",
    "r[0] = 1\n",
    "\n",
    "for i in range(convnet.shape[0]-1):\n",
    "    j[i+1] = j[i] * convnet[i,1]\n",
    "    r[i+1] = r[i] + convnet[i,0]*j[i]\n",
    "    \n",
    "r"
   ]
  }
 ],
 "metadata": {
  "kernelspec": {
   "display_name": "Python 3",
   "language": "python",
   "name": "python3"
  },
  "language_info": {
   "codemirror_mode": {
    "name": "ipython",
    "version": 3
   },
   "file_extension": ".py",
   "mimetype": "text/x-python",
   "name": "python",
   "nbconvert_exporter": "python",
   "pygments_lexer": "ipython3",
   "version": "3.6.1"
  }
 },
 "nbformat": 4,
 "nbformat_minor": 2
}
